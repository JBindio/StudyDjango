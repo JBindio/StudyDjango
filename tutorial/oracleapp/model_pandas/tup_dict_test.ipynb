{
 "cells": [
  {
   "cell_type": "code",
   "execution_count": 2,
   "metadata": {},
   "outputs": [],
   "source": [
    "row = [('a001','123123','홍길동'),('b001','34567','이정빈')]\n",
    "col = ['carr_member','','이름']"
   ]
  },
  {
   "cell_type": "code",
   "execution_count": 3,
   "metadata": {},
   "outputs": [
    {
     "data": {
      "text/plain": [
       "[{'아이디': 'a001', '패스워드': '123123', '이름': '홍길동'},\n",
       " {'아이디': 'b001', '패스워드': '34567', '이름': '이정빈'}]"
      ]
     },
     "execution_count": 3,
     "metadata": {},
     "output_type": "execute_result"
    }
   ],
   "source": [
    "test_list = []\n",
    "for tup in row:\n",
    "    test_dict = {}\n",
    "    for i in range(len(tup)):\n",
    "        test_dict[col_list[i]] = tup[i]\n",
    "    test_list.append(test_dict)\n",
    "        \n",
    "test_list"
   ]
  },
  {
   "cell_type": "code",
   "execution_count": 27,
   "metadata": {},
   "outputs": [
    {
     "data": {
      "text/plain": [
       "[{'아이디': 'a001', '패스워드': '123123', '이름': '홍길동'},\n",
       " {'아이디': 'b001', '패스워드': '34567', '이름': '이정빈'}]"
      ]
     },
     "execution_count": 27,
     "metadata": {},
     "output_type": "execute_result"
    }
   ],
   "source": [
    "def getDictType_FetchOne(col,row)\n",
    "\n",
    "    list_row = []\n",
    "\n",
    "    for tup in row:\n",
    "        dict_row = {}\n",
    "        for i in range(len(tup)):\n",
    "            dict_row[col[i]] = tup[i]\n",
    "        list_row.append(dict_row)\n",
    "    return list_row"
   ]
  }
 ],
 "metadata": {
  "kernelspec": {
   "display_name": "Python 3.9.12 64-bit",
   "language": "python",
   "name": "python3"
  },
  "language_info": {
   "codemirror_mode": {
    "name": "ipython",
    "version": 3
   },
   "file_extension": ".py",
   "mimetype": "text/x-python",
   "name": "python",
   "nbconvert_exporter": "python",
   "pygments_lexer": "ipython3",
   "version": "3.9.12"
  },
  "orig_nbformat": 4,
  "vscode": {
   "interpreter": {
    "hash": "38ae1ba9371524da054e8e3fbefd778d16b5a8ac7937a3f395010f627bb73919"
   }
  }
 },
 "nbformat": 4,
 "nbformat_minor": 2
}
